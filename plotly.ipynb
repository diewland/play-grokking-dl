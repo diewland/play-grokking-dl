{
 "cells": [
  {
   "cell_type": "code",
   "execution_count": 37,
   "metadata": {},
   "outputs": [],
   "source": [
    "import plotly.plotly as py\n",
    "import plotly.graph_objs as go"
   ]
  },
  {
   "cell_type": "code",
   "execution_count": 40,
   "metadata": {},
   "outputs": [
    {
     "name": "stdout",
     "output_type": "stream",
     "text": [
      "-----\n",
      "Weight:0.0\n",
      "Error:0.64 Prediction:0.0\n",
      "Delta:-0.8 Weight Delta:-0.88\n",
      "-----\n",
      "Weight:0.88\n",
      "Error:0.028224 Prediction:0.968\n",
      "Delta:0.168 Weight Delta:0.1848\n",
      "-----\n",
      "Weight:0.6952\n",
      "Error:0.0012446784 Prediction:0.76472\n",
      "Delta:-0.03528 Weight Delta:-0.038808\n",
      "-----\n",
      "Weight:0.734008\n",
      "Error:5.489031744e-05 Prediction:0.8074088\n",
      "Delta:0.0074088 Weight Delta:0.00814968\n",
      "[0.0, 0.8800000000000001, 0.6951999999999999, 0.734008]\n",
      "[0.6400000000000001, 0.02822400000000005, 0.0012446784000000064, 5.4890317439999896e-05]\n"
     ]
    }
   ],
   "source": [
    "weight, goal_pred, input = (0.0, 0.8, 1.1)\n",
    "\n",
    "calc_weights = []\n",
    "calc_errors = []\n",
    "\n",
    "for iteration in range(4):\n",
    "    print \"-----\\nWeight:\" + str(weight)\n",
    "    pred = input * weight\n",
    "    error = (pred - goal_pred) ** 2\n",
    "    \n",
    "    calc_weights.append(weight)\n",
    "    calc_errors.append(error)\n",
    "    \n",
    "    delta = pred - goal_pred\n",
    "    weight_delta = delta * input\n",
    "    weight = weight - weight_delta\n",
    "    print \"Error:\" + str(error) + \" Prediction:\" + str(pred)\n",
    "    print \"Delta:\" + str(delta) + \" Weight Delta:\" + str(weight_delta)"
   ]
  },
  {
   "cell_type": "code",
   "execution_count": 43,
   "metadata": {},
   "outputs": [
    {
     "name": "stdout",
     "output_type": "stream",
     "text": [
      "High five! You successfully sent some data to your account on plotly. View your plot in your browser at https://plot.ly/~diewland/0 or inside your plot.ly account where it is named 'basic-line'\n"
     ]
    },
    {
     "data": {
      "text/html": [
       "<iframe id=\"igraph\" scrolling=\"no\" style=\"border:none;\" seamless=\"seamless\" src=\"https://plot.ly/~diewland/0.embed\" height=\"525px\" width=\"100%\"></iframe>"
      ],
      "text/plain": [
       "<plotly.tools.PlotlyDisplay object>"
      ]
     },
     "execution_count": 43,
     "metadata": {},
     "output_type": "execute_result"
    }
   ],
   "source": [
    "def calc_err(weight):\n",
    "    return ((0.5*weight)-0.8)**2\n",
    "\n",
    "x = range(-6, 10)\n",
    "y = [ calc_err(i) for i in x ]\n",
    "\n",
    "# Create a trace\n",
    "trace = go.Scatter(x = x, y = y)\n",
    "train = go.Scatter(x = calc_weights, y = calc_errors)\n",
    "data = [\n",
    "    trace,\n",
    "    train\n",
    "]\n",
    "\n",
    "py.iplot(data, filename='basic-line')"
   ]
  },
  {
   "cell_type": "code",
   "execution_count": 51,
   "metadata": {},
   "outputs": [
    {
     "name": "stdout",
     "output_type": "stream",
     "text": [
      "Error:0.16 Prediction:0.4\n",
      "Error:0.09 Prediction:0.5\n",
      "Error:0.050625 Prediction:0.575\n",
      "Error:0.0284765625 Prediction:0.63125\n",
      "Error:0.0160180664063 Prediction:0.6734375\n",
      "Error:0.00901016235352 Prediction:0.705078125\n",
      "Error:0.00506821632385 Prediction:0.72880859375\n",
      "Error:0.00285087168217 Prediction:0.746606445312\n",
      "Error:0.00160361532122 Prediction:0.759954833984\n",
      "Error:0.000902033618186 Prediction:0.769966125488\n",
      "Error:0.000507393910229 Prediction:0.777474594116\n",
      "Error:0.000285409074504 Prediction:0.783105945587\n",
      "Error:0.000160542604409 Prediction:0.78732945919\n",
      "Error:9.03052149798e-05 Prediction:0.790497094393\n",
      "Error:5.07966834261e-05 Prediction:0.792872820795\n",
      "Error:2.85731344272e-05 Prediction:0.794654615596\n",
      "Error:1.60723881153e-05 Prediction:0.795990961697\n",
      "Error:9.04071831486e-06 Prediction:0.796993221273\n",
      "Error:5.08540405211e-06 Prediction:0.797744915955\n",
      "Error:2.86053977931e-06 Prediction:0.798308686966\n"
     ]
    }
   ],
   "source": [
    "weight = 0.8\n",
    "goal_pred = 0.8\n",
    "input = 0.5\n",
    "for iteration in range(20):\n",
    "    pred = input * weight\n",
    "    error = (pred - goal_pred) ** 2\n",
    "    direction_and_amount = (pred - goal_pred) * input\n",
    "    weight = weight - direction_and_amount\n",
    "    print \"Error:\" + str(error) + \" Prediction:\" + str(pred)"
   ]
  },
  {
   "cell_type": "code",
   "execution_count": 64,
   "metadata": {},
   "outputs": [
    {
     "name": "stdout",
     "output_type": "stream",
     "text": [
      "Error:0.04 Prediction:1.0\n",
      "Error:0.0144 Prediction:0.92\n",
      "Error:0.005184 Prediction:0.872\n",
      "Error:0.00186624 Prediction:0.8432\n",
      "Error:0.0006718464 Prediction:0.82592\n",
      "Error:0.000241864704 Prediction:0.815552\n",
      "Error:8.707129344e-05 Prediction:0.8093312\n",
      "Error:3.13456656384e-05 Prediction:0.80559872\n",
      "Error:1.12844396298e-05 Prediction:0.803359232\n",
      "Error:4.06239826674e-06 Prediction:0.8020155392\n",
      "Error:1.46246337603e-06 Prediction:0.80120932352\n",
      "Error:5.26486815369e-07 Prediction:0.800725594112\n",
      "Error:1.89535253533e-07 Prediction:0.800435356467\n",
      "Error:6.82326912719e-08 Prediction:0.80026121388\n",
      "Error:2.45637688579e-08 Prediction:0.800156728328\n",
      "Error:8.84295678884e-09 Prediction:0.800094036997\n",
      "Error:3.18346444398e-09 Prediction:0.800056422198\n",
      "Error:1.14604719983e-09 Prediction:0.800033853319\n",
      "Error:4.12576991939e-10 Prediction:0.800020311991\n",
      "Error:1.48527717099e-10 Prediction:0.800012187195\n"
     ]
    }
   ],
   "source": [
    "weight = 0.5\n",
    "goal_pred = 0.8\n",
    "alpha = 0.1\n",
    "input = 2 #0.5\n",
    "for iteration in range(20):\n",
    "    pred = input * weight\n",
    "    error = (pred - goal_pred) ** 2\n",
    "    derivative = input * (pred - goal_pred)\n",
    "    weight = weight - (derivative*alpha)\n",
    "    print \"Error:\" + str(error) + \" Prediction:\" + str(pred)"
   ]
  }
 ],
 "metadata": {
  "kernelspec": {
   "display_name": "Python 2",
   "language": "python",
   "name": "python2"
  },
  "language_info": {
   "codemirror_mode": {
    "name": "ipython",
    "version": 2
   },
   "file_extension": ".py",
   "mimetype": "text/x-python",
   "name": "python",
   "nbconvert_exporter": "python",
   "pygments_lexer": "ipython2",
   "version": "2.7.13"
  }
 },
 "nbformat": 4,
 "nbformat_minor": 2
}
