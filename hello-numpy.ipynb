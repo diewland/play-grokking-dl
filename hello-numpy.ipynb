{
 "cells": [
  {
   "cell_type": "code",
   "execution_count": 42,
   "metadata": {},
   "outputs": [],
   "source": [
    "import numpy as np"
   ]
  },
  {
   "cell_type": "code",
   "execution_count": 43,
   "metadata": {},
   "outputs": [],
   "source": [
    "a = np.array([0, 1, 2, 3])\n",
    "b = np.array([4, 5, 6, 7])\n",
    "c = np.array([[0, 1, 2, 3],\n",
    "             [4, 5, 6, 7]])\n",
    "d = np.zeros((2, 4))\n",
    "e = np.random.rand(2, 5)"
   ]
  },
  {
   "cell_type": "code",
   "execution_count": 44,
   "metadata": {},
   "outputs": [
    {
     "name": "stdout",
     "output_type": "stream",
     "text": [
      "[0 1 2 3]\n",
      "[4 5 6 7]\n",
      "[[0 1 2 3]\n",
      " [4 5 6 7]]\n",
      "[[ 0.  0.  0.  0.]\n",
      " [ 0.  0.  0.  0.]]\n",
      "[[ 0.08531352  0.93157364  0.62608296  0.28553793  0.03715542]\n",
      " [ 0.45801661  0.31150034  0.86618069  0.66648154  0.18572198]]\n"
     ]
    }
   ],
   "source": [
    "print a\n",
    "print b\n",
    "print c\n",
    "print d\n",
    "print e"
   ]
  },
  {
   "cell_type": "code",
   "execution_count": 45,
   "metadata": {},
   "outputs": [
    {
     "name": "stdout",
     "output_type": "stream",
     "text": [
      "[ 0.   0.1  0.2  0.3]\n",
      "[[ 0.   0.2  0.4  0.6]\n",
      " [ 0.8  1.   1.2  1.4]]\n",
      "[ 0  5 12 21]\n",
      "[ 0.   1.   2.4  4.2]\n",
      "[[ 0  1  4  9]\n",
      " [ 0  5 12 21]]\n"
     ]
    }
   ],
   "source": [
    "print a*0.1\n",
    "print c*0.2\n",
    "print a*b\n",
    "print a*b*0.2\n",
    "print a*c\n",
    "#print a*e"
   ]
  },
  {
   "cell_type": "code",
   "execution_count": 46,
   "metadata": {},
   "outputs": [
    {
     "name": "stdout",
     "output_type": "stream",
     "text": [
      "[[ 0.  0.  0.  0.]]\n",
      "[[ 0.  0.  0.]\n",
      " [ 0.  0.  0.]\n",
      " [ 0.  0.  0.]\n",
      " [ 0.  0.  0.]]\n",
      "[[ 0.  0.  0.]]\n",
      "(1, 3)\n"
     ]
    }
   ],
   "source": [
    "a = np.zeros((1,4))\n",
    "b = np.zeros((4,3))\n",
    "c = a.dot(b)\n",
    "print a\n",
    "print b\n",
    "print c\n",
    "print c.shape"
   ]
  }
 ],
 "metadata": {
  "kernelspec": {
   "display_name": "Python 2",
   "language": "python",
   "name": "python2"
  },
  "language_info": {
   "codemirror_mode": {
    "name": "ipython",
    "version": 2
   },
   "file_extension": ".py",
   "mimetype": "text/x-python",
   "name": "python",
   "nbconvert_exporter": "python",
   "pygments_lexer": "ipython2",
   "version": "2.7.10"
  }
 },
 "nbformat": 4,
 "nbformat_minor": 2
}
